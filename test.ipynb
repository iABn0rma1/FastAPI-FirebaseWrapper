{
 "cells": [
  {
   "cell_type": "code",
   "execution_count": 1,
   "metadata": {},
   "outputs": [],
   "source": [
    "!python3 -m venv .venv"
   ]
  },
  {
   "cell_type": "code",
   "execution_count": 5,
   "metadata": {},
   "outputs": [],
   "source": [
    "import requests\n",
    "\n",
    "BASE_URL = \"GCP_BASE_URL_HERE\"\n",
    "\n",
    "def test_hello_endpoint():\n",
    "    url = f\"{BASE_URL}/hello\"\n",
    "    response = requests.get(url)\n",
    "    print(\"\\n/hello:\")\n",
    "    print(f\"Status Code: {response.status_code}\")\n",
    "    print(f\"Response: {response.json()}\")\n",
    "\n",
    "def test_add_timestamp_endpoint():\n",
    "    url = f\"{BASE_URL}/add\"\n",
    "    response = requests.post(url)\n",
    "    print(\"\\n/add:\")\n",
    "    print(f\"Status Code: {response.status_code}\")\n",
    "    print(f\"Response: {response.json()}\")\n",
    "\n",
    "def test_list_products_endpoint():\n",
    "    url = f\"{BASE_URL}/products\"\n",
    "    response = requests.get(url)\n",
    "    print(\"\\n/products:\")\n",
    "    print(f\"Status Code: {response.status_code}\")\n",
    "    print(f\"Response: {response.json()}\")\n",
    "\n",
    "def test_add_to_cart_endpoint(product_id):\n",
    "    url = f\"{BASE_URL}/cart/add/{product_id}\"\n",
    "    response = requests.post(url)\n",
    "    print(f\"\\n/cart/add/{product_id}:\")\n",
    "    print(f\"Status Code: {response.status_code}\")\n",
    "    print(f\"Response: {response.json()}\")\n",
    "\n",
    "def test_list_cart_endpoint():\n",
    "    url = f\"{BASE_URL}/cart\"\n",
    "    response = requests.get(url)\n",
    "    print(\"\\n/cart:\")\n",
    "    print(f\"Status Code: {response.status_code}\")\n",
    "    print(f\"Response: {response.json()}\")"
   ]
  },
  {
   "cell_type": "code",
   "execution_count": null,
   "metadata": {},
   "outputs": [],
   "source": [
    "test_hello_endpoint()"
   ]
  },
  {
   "cell_type": "code",
   "execution_count": null,
   "metadata": {},
   "outputs": [],
   "source": [
    "test_add_timestamp_endpoint()"
   ]
  },
  {
   "cell_type": "code",
   "execution_count": null,
   "metadata": {},
   "outputs": [],
   "source": [
    "test_list_products_endpoint()"
   ]
  },
  {
   "cell_type": "code",
   "execution_count": null,
   "metadata": {},
   "outputs": [],
   "source": [
    "test_add_to_cart_endpoint(product_id=1)"
   ]
  },
  {
   "cell_type": "code",
   "execution_count": null,
   "metadata": {},
   "outputs": [],
   "source": [
    "test_list_cart_endpoint()"
   ]
  }
 ],
 "metadata": {
  "kernelspec": {
   "display_name": "Python 3",
   "language": "python",
   "name": "python3"
  },
  "language_info": {
   "codemirror_mode": {
    "name": "ipython",
    "version": 3
   },
   "file_extension": ".py",
   "mimetype": "text/x-python",
   "name": "python",
   "nbconvert_exporter": "python",
   "pygments_lexer": "ipython3",
   "version": "3.12.6"
  }
 },
 "nbformat": 4,
 "nbformat_minor": 2
}
